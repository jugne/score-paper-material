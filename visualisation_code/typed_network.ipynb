{
 "cells": [
  {
   "cell_type": "code",
   "execution_count": 4,
   "metadata": {},
   "outputs": [],
   "source": [
    "%matplotlib inline\n",
    "import matplotlib as mpl\n",
    "import matplotlib.pyplot as plt\n",
    "from matplotlib import gridspec\n",
    "from matplotlib.lines import Line2D\n",
    "\n",
    "import numpy as np\n",
    "from scipy.stats import gaussian_kde\n",
    "\n",
    "## set default matplotlib font and font size\n",
    "typeface='normal'\n",
    "mpl.rcParams['font.weight']=300\n",
    "mpl.rcParams['axes.labelweight']=300\n",
    "mpl.rcParams['font.family']=typeface\n",
    "mpl.rcParams['font.size']=22\n",
    "\n",
    "import imp,os\n",
    "from itertools import permutations\n",
    "\n",
    "bt=imp.load_source('baltic_bacter','/Users/jugne/Documents/SCORE-paper/visualisation_code/baltic_bacter.py')"
   ]
  },
  {
   "cell_type": "code",
   "execution_count": 5,
   "metadata": {},
   "outputs": [],
   "source": [
    "segments=['HA','NA']\n",
    "translate={i:segments.index(x) for i,x in enumerate(sorted(segments))}\n",
    "\n",
    "colourSwitches=[mpl.cm.Greys(i) for i in np.linspace(0.4,0.8,3)]\n",
    "\n",
    "colours={'Galliformes':(0.2981622478541206, 0.44644367598435458, 0.64719724652229571),\n",
    "        'Anseriformes':(0.28098424626331703, 0.63955403192370541, 0.39507882933990629)}\n",
    "\n",
    "colours_seg={'HA':(0.88366013765335083, 0.77908497055371606, 0.18562091886997223),\n",
    "            'NA':(0.502, 0, 0.125)}"
   ]
  },
  {
   "cell_type": "code",
   "execution_count": 26,
   "metadata": {},
   "outputs": [
    {
     "name": "stdout",
     "output_type": "stream",
     "text": [
      "1\n",
      "2\n",
      "3\n",
      "1\n",
      "2\n",
      "3\n",
      "1\n",
      "2\n",
      "3\n",
      "1\n",
      "2\n",
      "3\n",
      "1\n",
      "2\n",
      "3\n",
      "1\n",
      "2\n",
      "3\n",
      "1\n",
      "2\n",
      "3\n",
      "1\n",
      "2\n",
      "3\n",
      "1\n",
      "2\n",
      "3\n",
      "1\n",
      "2\n",
      "3\n"
     ]
    }
   ],
   "source": [
    "for run in range(1,11):\n",
    "    for u in range(1,4):\n",
    "        print(u)\n",
    "        if u==1:\n",
    "            tree_path='/Users/jugne/Documents/SCORE-paper/FullDatesInference/current/h5n1_reject_30DaysDiff_08_16/run_'+str(run)+'/combined/h5n1_maxPost.typed.network.trees'\n",
    "#            tree_path = '/Users/jugne/Documents/SCORE-paper/FullDatesInference/current/h5n1_reject_30DaysDiff_08_16/run_'+str(run)+'/combined/h5n1_mcc.typed.network.trees'\n",
    "#        if u==2:\n",
    "#            tree_path = '/Users/jugne/Documents/SCORE-paper/FullDatesInference/current/h5n1_reject_30DaysDiff_08_16/run_'+str(run)+'/output/root_filter_max/h5n1_mcc.typed.network.trees'\n",
    "#        if u==3:\n",
    "#            tree_path = '/Users/jugne/Documents/SCORE-paper/FullDatesInference/current/h5n1_reject_30DaysDiff_08_16/run_'+str(run)+'/output/segment_root_filter_max/h5n1_mcc.typed.network.trees'\n",
    "\n",
    "\n",
    "            #tree_path='/Users/jugne/Documents/SCORE-paper/FullDatesInference/current/h5n1_reject_30DaysDiff_08_16/run_1/combined/h5n1_mcc.typed.network.trees'\n",
    "#tree_path='/Users/jugne/Documents/SCORE-paper/FullDatesInference/current/h5n1_reject_30DaysDiff_08_16/run_1/output/root_filter_max/h5n1_mcc.typed.network.trees'\n",
    "#tree_path='/Users/jugne/Documents/SCORE-paper/FullDatesInference/current/h5n1_reject_30DaysDiff_08_16/run_1/output/segment_root_filter_max/h5n1_mcc.typed.network.trees'\n",
    "        ll=bt.loadNexus(tree_path,date_fmt='%Y-%m-%d',verbose=False) ## load tree\n",
    "        ll.drawTree()\n",
    "\n",
    "        fig = plt.figure(figsize=(15, 15),facecolor='w') ## new figure\n",
    "        gs = gridspec.GridSpec(2,2,height_ratios=[1,6],width_ratios=[1,4],wspace=0.2,hspace=0.1)\n",
    "        ax=plt.subplot(gs[1,0:],facecolor='w') ## first subplot - tree\n",
    "#        posteriorCutoff=lambda k: k.traits['posterior']>0.0 ## define cutoff for removing reassortment events\n",
    "\n",
    "#        keep=set(list(filter(posteriorCutoff,ll.getBranches(lambda k: isinstance(k,bt.reticulation))))+ll.getExternal(lambda k: isinstance(k,bt.leaf))) ## remove reassortment at a given cutoff\n",
    "\n",
    "#        ll=ll.reduceTree(keep) ## reduce tree down to those that pass posterior cutoff\n",
    "\n",
    "        for k in ll.Objects: ## iterate over branches\n",
    "            x=k.absoluteTime\n",
    "            xp=k.parent.absoluteTime\n",
    "            y=k.y\n",
    "\n",
    "            ax.plot([x,xp],[y,y],color=colours[k.traits['state']],lw=2,zorder=0)\n",
    "    \n",
    "            if isinstance(k,bt.reticulation)==True:         \n",
    "                #if posteriorCutoff(k): ## passes posterior threshold\n",
    "                segs=sorted(map(int,k.traits['segments'])) ## get travelling segment(s)\n",
    "\n",
    "                c='k'\n",
    "                s=20\n",
    "                for i in range(len(segs)):\n",
    "                    name=segments[translate[segs[i]]] ## get name of segment\n",
    "                    c=colours_seg[name] ## get appropriate colour\n",
    "                    o=1/20.\n",
    "            \n",
    "                    ax.plot([x,xp],[y,y],color=c,lw=3,ls=(0, (5, 10)),zorder=0)\n",
    "                    ax.plot([x+o*i,x+o*i],[y,k.target.y],color=colours[k.traits['state']],lw=3,ls='-',zorder=1)\n",
    "                    ax.plot([x+o*i,x+o*i],[y,k.target.y],color=c,lw=3,ls=(0, (5, 10)),zorder=1) ## plot vertical lineage leaving donor and heading to recipient\n",
    "                ##ax.scatter(x+o*i,k.target.y,s=s,facecolor=colours[k.traits['state']],edgecolor='none',zorder=3) ## plot circles\n",
    "                ##ax.scatter(x+o*i,k.target.y,s=s*2,facecolor='k',edgecolor='none',zorder=2)\n",
    "                \n",
    "    \n",
    "            if k.branchType=='node': ## if node - plot vertical bar\n",
    "                left,right=k.children[-1].y,k.children[0].y\n",
    "                ax.plot([x,x],[left,right],color=colours[k.traits['state']],lw=2,zorder=0)\n",
    "            elif isinstance(k,bt.leaf): ## if actual leaf - add circle\n",
    "                ax.scatter(x,y,s=20,facecolor=colours[k.traits['state']],edgecolor='none',zorder=4)\n",
    "                ax.scatter(x,y,s=40,facecolor='k',edgecolor='none',zorder=3)\n",
    "    \n",
    "\n",
    "        [ax.spines[loc].set_visible(False) for loc in ax.spines if loc!='bottom'] ## remove axis spines\n",
    "\n",
    "        timewidth=1\n",
    "        [ax.axvspan(i,i+timewidth,facecolor='lightgrey',edgecolor='none',alpha=0.2) for i in range(int(1995),int(ll.root.absoluteTime+ll.treeHeight+1),2*timewidth)] ## add timeline\n",
    "\n",
    "        ax.tick_params(axis='y',size=0,labelsize=0)\n",
    "        ax.tick_params(axis='x',size=0,labelsize=28)\n",
    "        ax.set_ylim(-1,ll.ySpan+1)\n",
    "        custom_lines = []\n",
    "        names = []\n",
    "        for col in colours:\n",
    "            custom_lines.append(Line2D([0], [0], color=colours[col], lw=4))\n",
    "            names.append(col) \n",
    "\n",
    "        for col_s in colours_seg:\n",
    "            custom_lines.append(Line2D([0], [0], color=colours_seg[col_s], lw=4, ls='--'))\n",
    "            names.append(col_s) \n",
    "\n",
    "#         if run==10:\n",
    "#             ax.legend(custom_lines, names, prop=dict(size=25))\n",
    "            \n",
    "\n",
    "        plt.title('Subset '+ str(run))\n",
    "\n",
    "\n",
    "#         plt.show()\n",
    "        if u==1:\n",
    "            figname = '/Users/jugne/Documents/score-text/figures/no_filter/networks/run'+str(run)+'_h5n1_maxPost.pdf'\n",
    "#            figname =  '/Users/jugne/Documents/SCORE-paper/FullDatesInference/current/h5n1_reject_30DaysDiff_08_16/run_'+str(run)+'/combined/h5n1_mcc.pdf'\n",
    "#        if u==2:\n",
    "#            figname = '/Users/jugne/Documents/SCORE-paper/FullDatesInference/current/h5n1_reject_30DaysDiff_08_16/run_'+str(run)+'/output/root_filter_max/h5n1_root_filter_mcc.pdf'\n",
    "#        if u==3:\n",
    "#            figname = '/Users/jugne/Documents/SCORE-paper/FullDatesInference/current/h5n1_reject_30DaysDiff_08_16/run_'+str(run)+'/output/segment_root_filter_max/h5n1_segment_root_filter_mcc.pdf'\n",
    "        fig.savefig(figname, bbox_inches='tight')\n",
    "        plt.close(fig)"
   ]
  },
  {
   "cell_type": "code",
   "execution_count": 27,
   "metadata": {},
   "outputs": [
    {
     "name": "stdout",
     "output_type": "stream",
     "text": [
      "1\n",
      "2\n",
      "1\n",
      "2\n",
      "1\n",
      "2\n",
      "1\n",
      "2\n",
      "1\n",
      "2\n",
      "1\n",
      "2\n",
      "1\n",
      "2\n",
      "1\n",
      "2\n",
      "1\n",
      "2\n",
      "1\n",
      "2\n"
     ]
    },
    {
     "data": {
      "image/png": "[encoded data removed]",
      "text/plain": [
       "<Figure size 432x288 with 1 Axes>"
      ]
     },
     "metadata": {
      "needs_background": "light"
     },
     "output_type": "display_data"
    },
    {
     "data": {
      "image/png": "[encoded data removed]",
      "text/plain": [
       "<Figure size 432x288 with 1 Axes>"
      ]
     },
     "metadata": {
      "needs_background": "light"
     },
     "output_type": "display_data"
    }
   ],
   "source": [
    "for run in range(1,11):\n",
    "    for u in range(1,3):\n",
    "        print(u)\n",
    "        if u==1:\n",
    "            tree_path = '/Users/jugne/Documents/SCORE-paper/FullDatesInference/current/h5n1_reject_30DaysDiff_08_16/run_'+str(run)+'/combined/h5n1_mcc.typed.network.trees'\n",
    "#         if u==2:\n",
    "#             tree_path = '/Users/jugne/Documents/SCORE-paper/FullDatesInference/current/h5n1_reject_30DaysDiff_08_16/run_'+str(run)+'/output/root_filter_max/h5n1_mcc.typed.network.trees'\n",
    "        if u==2:\n",
    "            tree_path = '/Users/jugne/Documents/SCORE-paper/FullDatesInference/current/h5n1_reject_30DaysDiff_08_16/run_'+str(run)+'/output/segment_root_filter_max/h5n1_mcc.typed.network.trees'\n",
    "\n",
    "\n",
    "            #tree_path='/Users/jugne/Documents/SCORE-paper/FullDatesInference/current/h5n1_reject_30DaysDiff_08_16/run_1/combined/h5n1_mcc.typed.network.trees'\n",
    "#tree_path='/Users/jugne/Documents/SCORE-paper/FullDatesInference/current/h5n1_reject_30DaysDiff_08_16/run_1/output/root_filter_max/h5n1_mcc.typed.network.trees'\n",
    "#tree_path='/Users/jugne/Documents/SCORE-paper/FullDatesInference/current/h5n1_reject_30DaysDiff_08_16/run_1/output/segment_root_filter_max/h5n1_mcc.typed.network.trees'\n",
    "        ll=bt.loadNexus(tree_path,date_fmt='%Y-%m-%d',verbose=False) ## load tree\n",
    "        ll.drawTree()\n",
    "\n",
    "        fig = plt.figure(figsize=(15, 15),facecolor='w') ## new figure\n",
    "        gs = gridspec.GridSpec(2,2,height_ratios=[1,6],width_ratios=[1,4],wspace=0.2,hspace=0.1)\n",
    "        ax=plt.subplot(gs[1,0:],facecolor='w') ## first subplot - tree\n",
    "#        posteriorCutoff=lambda k: k.traits['posterior']>0.0 ## define cutoff for removing reassortment events\n",
    "\n",
    "#        keep=set(list(filter(posteriorCutoff,ll.getBranches(lambda k: isinstance(k,bt.reticulation))))+ll.getExternal(lambda k: isinstance(k,bt.leaf))) ## remove reassortment at a given cutoff\n",
    "\n",
    "#        ll=ll.reduceTree(keep) ## reduce tree down to those that pass posterior cutoff\n",
    "\n",
    "        for k in ll.Objects: ## iterate over branches\n",
    "            x=k.absoluteTime\n",
    "            xp=k.parent.absoluteTime\n",
    "            y=k.y\n",
    "\n",
    "            ax.plot([x,xp],[y,y],color=colours[k.traits['state']],lw=2,zorder=0)\n",
    "    \n",
    "            if isinstance(k,bt.reticulation)==True:         \n",
    "                #if posteriorCutoff(k): ## passes posterior threshold\n",
    "                segs=sorted(map(int,k.traits['segments'])) ## get travelling segment(s)\n",
    "\n",
    "                c='k'\n",
    "                s=20\n",
    "                for i in range(len(segs)):\n",
    "                    name=segments[translate[segs[i]]] ## get name of segment\n",
    "                    c=colours_seg[name] ## get appropriate colour\n",
    "                    o=1/20.\n",
    "            \n",
    "                    ax.plot([x,xp],[y,y],color=c,lw=3,ls=(0, (5, 10)),zorder=0)\n",
    "                    ax.plot([x+o*i,x+o*i],[y,k.target.y],color=colours[k.traits['state']],lw=3,ls='-',zorder=1)\n",
    "                    ax.plot([x+o*i,x+o*i],[y,k.target.y],color=c,lw=3,ls=(0, (5, 10)),zorder=1) ## plot vertical lineage leaving donor and heading to recipient\n",
    "                ##ax.scatter(x+o*i,k.target.y,s=s,facecolor=colours[k.traits['state']],edgecolor='none',zorder=3) ## plot circles\n",
    "                ##ax.scatter(x+o*i,k.target.y,s=s*2,facecolor='k',edgecolor='none',zorder=2)\n",
    "                \n",
    "    \n",
    "            if k.branchType=='node': ## if node - plot vertical bar\n",
    "                left,right=k.children[-1].y,k.children[0].y\n",
    "                ax.plot([x,x],[left,right],color=colours[k.traits['state']],lw=2,zorder=0)\n",
    "            elif isinstance(k,bt.leaf): ## if actual leaf - add circle\n",
    "                ax.scatter(x,y,s=20,facecolor=colours[k.traits['state']],edgecolor='none',zorder=4)\n",
    "                ax.scatter(x,y,s=40,facecolor='k',edgecolor='none',zorder=3)\n",
    "    \n",
    "\n",
    "        [ax.spines[loc].set_visible(False) for loc in ax.spines if loc!='bottom'] ## remove axis spines\n",
    "\n",
    "        timewidth=1\n",
    "        [ax.axvspan(i,i+timewidth,facecolor='lightgrey',edgecolor='none',alpha=0.2) for i in range(int(1995),int(ll.root.absoluteTime+ll.treeHeight+1),2*timewidth)] ## add timeline\n",
    "\n",
    "        ax.tick_params(axis='y',size=0,labelsize=0)\n",
    "        ax.tick_params(axis='x',size=0,labelsize=28)\n",
    "        ax.set_ylim(-1,ll.ySpan+1)\n",
    "        custom_lines = []\n",
    "        names = []\n",
    "        for col in colours:\n",
    "            custom_lines.append(Line2D([0], [0], color=colours[col], lw=4))\n",
    "            names.append(col) \n",
    "\n",
    "        for col_s in colours_seg:\n",
    "            custom_lines.append(Line2D([0], [0], color=colours_seg[col_s], lw=4, ls='--'))\n",
    "            names.append(col_s) \n",
    "\n",
    "#         if run==10:\n",
    "#             ax.legend(custom_lines, names, prop=dict(size=25))\n",
    "#             label_params = ax.get_legend_handles_labels() \n",
    "\n",
    " \n",
    "\n",
    "        plt.title('Subset '+ str(run))\n",
    "#         plt.show()\n",
    "        if u==1:\n",
    "            figname =  '/Users/jugne/Documents/score-text/figures/no_filter/networks/run_'+str(run)+'_h5n1_mcc.pdf'\n",
    "#         if u==2:\n",
    "#             figname = '/Users/jugne/Documents/SCORE-paper/FullDatesInference/current/h5n1_reject_30DaysDiff_08_16/run_'+str(run)+'/output/root_filter_max/h5n1_root_filter_mcc.pdf'\n",
    "        if u==2:\n",
    "            figname = '/Users/jugne/Documents/score-text/figures/no_filter/networks/run_'+str(run)+'_h5n1_segment_root_filter_mcc.pdf'\n",
    "        fig.savefig(figname, bbox_inches='tight')\n",
    "        plt.close(fig)\n",
    "        \n",
    "        if run==10:\n",
    "            figl, axl = plt.subplots()\n",
    "            axl.axis(False)\n",
    "            axl.legend(custom_lines, names , loc=\"center\", prop={\"size\":40}, frameon=False)\n",
    "            figl.savefig(\"Network_label_only.pdf\")"
   ]
  },
  {
   "cell_type": "code",
   "execution_count": 23,
   "metadata": {},
   "outputs": [
    {
     "name": "stdout",
     "output_type": "stream",
     "text": [
      "range(1, 4)\n"
     ]
    }
   ],
   "source": [
    "print(range(1,4))"
   ]
  },
  {
   "cell_type": "code",
   "execution_count": 14,
   "metadata": {
    "scrolled": true
   },
   "outputs": [
    {
     "data": {
      "image/png": "[encoded data removed]",
      "text/plain": [
       "<Figure size 432x288 with 1 Axes>"
      ]
     },
     "metadata": {
      "needs_background": "light"
     },
     "output_type": "display_data"
    }
   ],
   "source": [
    "label_params = ax.get_legend_handles_labels() \n",
    "\n",
    "figl, axl = plt.subplots()\n",
    "axl.axis(False)\n",
    "axl.legend(*label_params, loc=\"center\", bbox_to_anchor=(0.5, 0.5), prop={\"size\":50}, frameon=False)\n",
    "figl.savefig(\"LABEL_ONLY.png\")"
   ]
  },
  {
   "cell_type": "code",
   "execution_count": null,
   "metadata": {},
   "outputs": [],
   "source": []
  }
 ],
 "metadata": {
  "kernelspec": {
   "display_name": "Python 3",
   "language": "python",
   "name": "python3"
  },
  "language_info": {
   "codemirror_mode": {
    "name": "ipython",
    "version": 3
   },
   "file_extension": ".py",
   "mimetype": "text/x-python",
   "name": "python",
   "nbconvert_exporter": "python",
   "pygments_lexer": "ipython3",
   "version": "3.7.4"
  }
 },
 "nbformat": 4,
 "nbformat_minor": 2
}
